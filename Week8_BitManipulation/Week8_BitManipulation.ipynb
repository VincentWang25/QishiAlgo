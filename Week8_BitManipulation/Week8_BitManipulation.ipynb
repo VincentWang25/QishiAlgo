{
 "cells": [
  {
   "cell_type": "markdown",
   "metadata": {
    "toc": true
   },
   "source": [
    "<h1>Table of Contents<span class=\"tocSkip\"></span></h1>\n",
    "<div class=\"toc\"><ul class=\"toc-item\"><li><span><a href=\"#Basic-Operator\" data-toc-modified-id=\"Basic-Operator-1\"><span class=\"toc-item-num\">1&nbsp;&nbsp;</span>Basic Operator</a></span><ul class=\"toc-item\"><li><span><a href=\"#&amp;-(and),-|-(or),-^-(exclusive-or,-xor)\" data-toc-modified-id=\"&amp;-(and),-|-(or),-^-(exclusive-or,-xor)-1.1\"><span class=\"toc-item-num\">1.1&nbsp;&nbsp;</span><code>&amp;</code> (and), <code>|</code> (or), <code>^</code> (exclusive-or, xor)</a></span></li><li><span><a href=\"#~-(not)\" data-toc-modified-id=\"~-(not)-1.2\"><span class=\"toc-item-num\">1.2&nbsp;&nbsp;</span><code>~</code> (not)</a></span></li><li><span><a href=\"#shift-<<,->>\" data-toc-modified-id=\"shift-<<,->>-1.3\"><span class=\"toc-item-num\">1.3&nbsp;&nbsp;</span>shift <code>&lt;&lt;</code>, <code>&gt;&gt;</code></a></span></li></ul></li><li><span><a href=\"#What\" data-toc-modified-id=\"What-2\"><span class=\"toc-item-num\">2&nbsp;&nbsp;</span>What</a></span></li><li><span><a href=\"#Why\" data-toc-modified-id=\"Why-3\"><span class=\"toc-item-num\">3&nbsp;&nbsp;</span>Why</a></span></li><li><span><a href=\"#How\" data-toc-modified-id=\"How-4\"><span class=\"toc-item-num\">4&nbsp;&nbsp;</span>How</a></span></li><li><span><a href=\"#When\" data-toc-modified-id=\"When-5\"><span class=\"toc-item-num\">5&nbsp;&nbsp;</span>When</a></span></li><li><span><a href=\"#Exercise\" data-toc-modified-id=\"Exercise-6\"><span class=\"toc-item-num\">6&nbsp;&nbsp;</span>Exercise</a></span></li></ul></div>"
   ]
  },
  {
   "cell_type": "markdown",
   "metadata": {},
   "source": [
    "[Wikipedia](https://en.wikipedia.org/wiki/Bit_manipulation):\n",
    ">Bit manipulation is the act of algorithmically manipulating **bits or other pieces of data shorter than a word**. Computer programming tasks that require bit manipulation include low-level device control, error detection and correction algorithms, **data compression**, encryption algorithms, and **optimization**. ..... Source code that does bit manipulation makes use of the bitwise operations: **AND, OR, XOR, NOT, and bit shifts**.\n",
    "\n",
    ">Bit manipulation, in some cases, can **obviate or reduce the need to loop over a data structure and can give many-fold speed ups, as bit manipulations are processed in parallel, but the code can become more difficult to write and maintain.**"
   ]
  },
  {
   "cell_type": "markdown",
   "metadata": {},
   "source": [
    "# Basic Operator\n",
    "- `&` (and), `|` (or), `^` (exclusive-or, xor), and `~` (not) and shift operators `x << shift` and `x >> shift`."
   ]
  },
  {
   "cell_type": "code",
   "execution_count": 36,
   "metadata": {
    "ExecuteTime": {
     "end_time": "2021-02-20T02:54:17.082073Z",
     "start_time": "2021-02-20T02:54:17.076494Z"
    }
   },
   "outputs": [],
   "source": [
    "def show_num(x):\n",
    "    print(\"{:<3}, binary form: {:>8}\".format(x,bin(x),))"
   ]
  },
  {
   "cell_type": "markdown",
   "metadata": {},
   "source": [
    "## `&` (and), `|` (or), `^` (exclusive-or, xor)"
   ]
  },
  {
   "cell_type": "code",
   "execution_count": 37,
   "metadata": {
    "ExecuteTime": {
     "end_time": "2021-02-20T02:54:17.482292Z",
     "start_time": "2021-02-20T02:54:17.472367Z"
    }
   },
   "outputs": [
    {
     "name": "stdout",
     "output_type": "stream",
     "text": [
      "22 , binary form:  0b10110\n",
      "15 , binary form:   0b1111\n"
     ]
    }
   ],
   "source": [
    "a = 22\n",
    "b = 15\n",
    "show_num(a)\n",
    "show_num(b)"
   ]
  },
  {
   "cell_type": "code",
   "execution_count": 38,
   "metadata": {
    "ExecuteTime": {
     "end_time": "2021-02-20T02:54:17.588612Z",
     "start_time": "2021-02-20T02:54:17.579844Z"
    }
   },
   "outputs": [
    {
     "name": "stdout",
     "output_type": "stream",
     "text": [
      "6  , binary form:    0b110\n"
     ]
    }
   ],
   "source": [
    "a_and_b = a & b\n",
    "show_num(a_and_b)"
   ]
  },
  {
   "cell_type": "code",
   "execution_count": 39,
   "metadata": {
    "ExecuteTime": {
     "end_time": "2021-02-20T02:54:17.773822Z",
     "start_time": "2021-02-20T02:54:17.765768Z"
    }
   },
   "outputs": [
    {
     "name": "stdout",
     "output_type": "stream",
     "text": [
      "31 , binary form:  0b11111\n"
     ]
    }
   ],
   "source": [
    "a_or_b = a | b\n",
    "show_num(a_or_b)"
   ]
  },
  {
   "cell_type": "code",
   "execution_count": 40,
   "metadata": {
    "ExecuteTime": {
     "end_time": "2021-02-20T02:54:17.916191Z",
     "start_time": "2021-02-20T02:54:17.906495Z"
    }
   },
   "outputs": [
    {
     "name": "stdout",
     "output_type": "stream",
     "text": [
      "25 , binary form:  0b11001\n"
     ]
    }
   ],
   "source": [
    "a_xor_b = a ^ b\n",
    "show_num(a_xor_b)"
   ]
  },
  {
   "cell_type": "markdown",
   "metadata": {},
   "source": [
    "## `~` (not)"
   ]
  },
  {
   "cell_type": "code",
   "execution_count": 41,
   "metadata": {
    "ExecuteTime": {
     "end_time": "2021-02-20T02:54:18.240929Z",
     "start_time": "2021-02-20T02:54:18.230885Z"
    }
   },
   "outputs": [
    {
     "name": "stdout",
     "output_type": "stream",
     "text": [
      "-23, binary form: -0b10111\n",
      "-16, binary form: -0b10000\n"
     ]
    }
   ],
   "source": [
    "not_a = ~ a\n",
    "not_b = ~ b\n",
    "show_num(not_a)\n",
    "show_num(not_b)"
   ]
  },
  {
   "cell_type": "code",
   "execution_count": 42,
   "metadata": {
    "ExecuteTime": {
     "end_time": "2021-02-20T02:54:18.420122Z",
     "start_time": "2021-02-20T02:54:18.414238Z"
    }
   },
   "outputs": [
    {
     "name": "stdout",
     "output_type": "stream",
     "text": [
      "16 , binary form:  0b10000\n"
     ]
    }
   ],
   "source": [
    "# subtraction\n",
    "a_minus_b = a & ~b\n",
    "show_num(a_minus_b)"
   ]
  },
  {
   "cell_type": "markdown",
   "metadata": {},
   "source": [
    "## shift `<<`, `>>`"
   ]
  },
  {
   "cell_type": "code",
   "execution_count": 43,
   "metadata": {
    "ExecuteTime": {
     "end_time": "2021-02-20T02:54:19.927579Z",
     "start_time": "2021-02-20T02:54:19.922212Z"
    }
   },
   "outputs": [
    {
     "name": "stdout",
     "output_type": "stream",
     "text": [
      "5  , binary form:    0b101\n",
      "60 , binary form: 0b111100\n"
     ]
    }
   ],
   "source": [
    "a_right_shift_2 = a >> 2\n",
    "b_left_shift_2 = b << 2\n",
    "show_num(a_right_shift_2)\n",
    "show_num(b_left_shift_2)"
   ]
  },
  {
   "cell_type": "code",
   "execution_count": 44,
   "metadata": {
    "ExecuteTime": {
     "end_time": "2021-02-20T03:00:46.881521Z",
     "start_time": "2021-02-20T03:00:46.872454Z"
    }
   },
   "outputs": [
    {
     "data": {
      "text/plain": [
       "16"
      ]
     },
     "execution_count": 44,
     "metadata": {},
     "output_type": "execute_result"
    }
   ],
   "source": [
    "a_minus_b"
   ]
  },
  {
   "cell_type": "code",
   "execution_count": 45,
   "metadata": {
    "ExecuteTime": {
     "end_time": "2021-02-20T03:00:55.095667Z",
     "start_time": "2021-02-20T03:00:55.083605Z"
    }
   },
   "outputs": [
    {
     "data": {
      "text/plain": [
       "6"
      ]
     },
     "execution_count": 45,
     "metadata": {},
     "output_type": "execute_result"
    }
   ],
   "source": [
    "(42).bit_length()"
   ]
  },
  {
   "cell_type": "markdown",
   "metadata": {},
   "source": [
    "# What "
   ]
  },
  {
   "cell_type": "code",
   "execution_count": 8,
   "metadata": {
    "ExecuteTime": {
     "end_time": "2021-02-01T12:02:15.343383Z",
     "start_time": "2021-02-01T12:02:15.340428Z"
    }
   },
   "outputs": [
    {
     "data": {
      "text/plain": [
       "'0b111111111'"
      ]
     },
     "execution_count": 8,
     "metadata": {},
     "output_type": "execute_result"
    }
   ],
   "source": [
    "bin(511)"
   ]
  },
  {
   "cell_type": "code",
   "execution_count": 6,
   "metadata": {
    "ExecuteTime": {
     "end_time": "2021-02-01T11:59:29.412553Z",
     "start_time": "2021-02-01T11:59:29.407161Z"
    }
   },
   "outputs": [
    {
     "data": {
      "text/plain": [
       "0"
      ]
     },
     "execution_count": 6,
     "metadata": {},
     "output_type": "execute_result"
    }
   ],
   "source": [
    "512 & (2**9-1)"
   ]
  },
  {
   "cell_type": "markdown",
   "metadata": {},
   "source": [
    "# Why"
   ]
  },
  {
   "cell_type": "code",
   "execution_count": 7,
   "metadata": {
    "ExecuteTime": {
     "end_time": "2021-02-01T11:59:46.589997Z",
     "start_time": "2021-02-01T11:59:46.587124Z"
    }
   },
   "outputs": [
    {
     "data": {
      "text/plain": [
       "2"
      ]
     },
     "execution_count": 7,
     "metadata": {},
     "output_type": "execute_result"
    }
   ],
   "source": [
    "(512>>8) & (2**9-1)"
   ]
  },
  {
   "cell_type": "markdown",
   "metadata": {},
   "source": [
    "# How"
   ]
  },
  {
   "cell_type": "code",
   "execution_count": null,
   "metadata": {},
   "outputs": [],
   "source": []
  },
  {
   "cell_type": "markdown",
   "metadata": {},
   "source": [
    "# When"
   ]
  },
  {
   "cell_type": "code",
   "execution_count": null,
   "metadata": {},
   "outputs": [],
   "source": []
  },
  {
   "cell_type": "markdown",
   "metadata": {},
   "source": [
    "# Exercise"
   ]
  },
  {
   "cell_type": "code",
   "execution_count": null,
   "metadata": {},
   "outputs": [],
   "source": []
  }
 ],
 "metadata": {
  "kernelspec": {
   "display_name": "Python 3",
   "language": "python",
   "name": "python3"
  },
  "language_info": {
   "codemirror_mode": {
    "name": "ipython",
    "version": 3
   },
   "file_extension": ".py",
   "mimetype": "text/x-python",
   "name": "python",
   "nbconvert_exporter": "python",
   "pygments_lexer": "ipython3",
   "version": "3.8.6"
  },
  "toc": {
   "base_numbering": 1,
   "nav_menu": {},
   "number_sections": true,
   "sideBar": true,
   "skip_h1_title": false,
   "title_cell": "Table of Contents",
   "title_sidebar": "Contents",
   "toc_cell": true,
   "toc_position": {},
   "toc_section_display": true,
   "toc_window_display": false
  }
 },
 "nbformat": 4,
 "nbformat_minor": 4
}
